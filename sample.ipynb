{
 "cells": [
  {
   "metadata": {},
   "cell_type": "markdown",
   "source": "# Screen Time DataSet \n",
   "id": "8a77807f92f26ee"
  },
  {
   "metadata": {
    "ExecuteTime": {
     "end_time": "2024-07-04T20:32:55.364322Z",
     "start_time": "2024-07-04T20:32:55.040720Z"
    }
   },
   "cell_type": "code",
   "source": [
    "import pandas as pd\n",
    "import numpy as np"
   ],
   "id": "fbc121e30a2defb3",
   "outputs": [],
   "execution_count": 1
  },
  {
   "metadata": {
    "ExecuteTime": {
     "end_time": "2024-07-04T20:32:55.971840Z",
     "start_time": "2024-07-04T20:32:55.838774Z"
    }
   },
   "cell_type": "code",
   "source": [
    "df = pd.read_excel('DataFrame.xlsx')\n",
    "df"
   ],
   "id": "1b416168378adc76",
   "outputs": [
    {
     "data": {
      "text/plain": [
       "            Marca temporal  Edad    Género. Plataforma más usada.  \\\n",
       "0  2024-06-28 19:52:58.038  21.0  Masculino              WhatsApp   \n",
       "1  2024-06-28 19:54:03.156  21.0   Femenino             Instagram   \n",
       "2  2024-06-28 20:31:52.606  19.0  Masculino           X (Twitter)   \n",
       "3  2024-06-28 20:32:49.997  51.0  Masculino              Facebook   \n",
       "4  2024-06-28 20:34:48.982  20.0  Masculino           X (Twitter)   \n",
       "..                     ...   ...        ...                   ...   \n",
       "61 2024-07-02 16:49:18.221  31.0   Femenino              WhatsApp   \n",
       "62 2024-07-02 16:58:46.477  37.0  Masculino              WhatsApp   \n",
       "63 2024-07-02 16:59:15.786  31.0  Masculino             Instagram   \n",
       "64 2024-07-02 17:00:07.008  22.0  Masculino              WhatsApp   \n",
       "65 2024-07-02 17:01:57.025  33.0   Femenino             Instagram   \n",
       "\n",
       "        Intereses Demografía  Ubicación                     Profesión   \\\n",
       "0        Deportes     Urbano  Chihuahua                     Estudiante   \n",
       "1        Deportes      Rural  Chihuahua                     Estudiante   \n",
       "2        Deportes     Urbano  Chihuahua                     Estudiante   \n",
       "3        Deportes     Urbano  Chihuahua                       Negocios   \n",
       "4            Arte     Urbano  Chihuahua                     Estudiante   \n",
       "..            ...        ...        ...                            ...   \n",
       "61           Arte     Urbano  Chihuahua                     Ingeniería   \n",
       "62       Deportes     Urbano  Chihuahua  Tecnologías de la información   \n",
       "63           Cine     Urbano  Chihuahua                     Ingeniería   \n",
       "64  Vida nocturna     Urbano  Chihuahua  Tecnologías de la información   \n",
       "65           Arte     Urbano  Chihuahua                     Estudiante   \n",
       "\n",
       "    Personas que viven contigo  Ingresos mensuales fijos en pesos  \\\n",
       "0                          4.0                             9200.0   \n",
       "1                          0.0                             9000.0   \n",
       "2                          5.0                               35.0   \n",
       "3                          4.0                           200000.0   \n",
       "4                         10.0                             5600.0   \n",
       "..                         ...                                ...   \n",
       "61                         0.0                                0.0   \n",
       "62                         1.0                            20000.0   \n",
       "63                         3.0                                0.0   \n",
       "64                         0.0                                0.0   \n",
       "65                         2.0                            10000.0   \n",
       "\n",
       "    Cuanto tiempo al día usas tu plataforma más usada? (En horas)  \\\n",
       "0                                                 NaN               \n",
       "1                                                 NaN               \n",
       "2                                                 2.0               \n",
       "3                                                 1.0               \n",
       "4                                                 1.0               \n",
       "..                                                ...               \n",
       "61                                                9.0               \n",
       "62                                                3.0               \n",
       "63                                                3.0               \n",
       "64                                                1.0               \n",
       "65                                                4.0               \n",
       "\n",
       "    Tiempo promedio diario que utilizas tu teléfono al día. (En horas)  \n",
       "0                                                 NaN                   \n",
       "1                                                 NaN                   \n",
       "2                                                 6.0                   \n",
       "3                                                 5.0                   \n",
       "4                                                 5.0                   \n",
       "..                                                ...                   \n",
       "61                                               19.0                   \n",
       "62                                                5.0                   \n",
       "63                                                4.0                   \n",
       "64                                                4.0                   \n",
       "65                                                3.0                   \n",
       "\n",
       "[66 rows x 12 columns]"
      ],
      "text/html": [
       "<div>\n",
       "<style scoped>\n",
       "    .dataframe tbody tr th:only-of-type {\n",
       "        vertical-align: middle;\n",
       "    }\n",
       "\n",
       "    .dataframe tbody tr th {\n",
       "        vertical-align: top;\n",
       "    }\n",
       "\n",
       "    .dataframe thead th {\n",
       "        text-align: right;\n",
       "    }\n",
       "</style>\n",
       "<table border=\"1\" class=\"dataframe\">\n",
       "  <thead>\n",
       "    <tr style=\"text-align: right;\">\n",
       "      <th></th>\n",
       "      <th>Marca temporal</th>\n",
       "      <th>Edad</th>\n",
       "      <th>Género.</th>\n",
       "      <th>Plataforma más usada.</th>\n",
       "      <th>Intereses</th>\n",
       "      <th>Demografía</th>\n",
       "      <th>Ubicación</th>\n",
       "      <th>Profesión</th>\n",
       "      <th>Personas que viven contigo</th>\n",
       "      <th>Ingresos mensuales fijos en pesos</th>\n",
       "      <th>Cuanto tiempo al día usas tu plataforma más usada? (En horas)</th>\n",
       "      <th>Tiempo promedio diario que utilizas tu teléfono al día. (En horas)</th>\n",
       "    </tr>\n",
       "  </thead>\n",
       "  <tbody>\n",
       "    <tr>\n",
       "      <th>0</th>\n",
       "      <td>2024-06-28 19:52:58.038</td>\n",
       "      <td>21.0</td>\n",
       "      <td>Masculino</td>\n",
       "      <td>WhatsApp</td>\n",
       "      <td>Deportes</td>\n",
       "      <td>Urbano</td>\n",
       "      <td>Chihuahua</td>\n",
       "      <td>Estudiante</td>\n",
       "      <td>4.0</td>\n",
       "      <td>9200.0</td>\n",
       "      <td>NaN</td>\n",
       "      <td>NaN</td>\n",
       "    </tr>\n",
       "    <tr>\n",
       "      <th>1</th>\n",
       "      <td>2024-06-28 19:54:03.156</td>\n",
       "      <td>21.0</td>\n",
       "      <td>Femenino</td>\n",
       "      <td>Instagram</td>\n",
       "      <td>Deportes</td>\n",
       "      <td>Rural</td>\n",
       "      <td>Chihuahua</td>\n",
       "      <td>Estudiante</td>\n",
       "      <td>0.0</td>\n",
       "      <td>9000.0</td>\n",
       "      <td>NaN</td>\n",
       "      <td>NaN</td>\n",
       "    </tr>\n",
       "    <tr>\n",
       "      <th>2</th>\n",
       "      <td>2024-06-28 20:31:52.606</td>\n",
       "      <td>19.0</td>\n",
       "      <td>Masculino</td>\n",
       "      <td>X (Twitter)</td>\n",
       "      <td>Deportes</td>\n",
       "      <td>Urbano</td>\n",
       "      <td>Chihuahua</td>\n",
       "      <td>Estudiante</td>\n",
       "      <td>5.0</td>\n",
       "      <td>35.0</td>\n",
       "      <td>2.0</td>\n",
       "      <td>6.0</td>\n",
       "    </tr>\n",
       "    <tr>\n",
       "      <th>3</th>\n",
       "      <td>2024-06-28 20:32:49.997</td>\n",
       "      <td>51.0</td>\n",
       "      <td>Masculino</td>\n",
       "      <td>Facebook</td>\n",
       "      <td>Deportes</td>\n",
       "      <td>Urbano</td>\n",
       "      <td>Chihuahua</td>\n",
       "      <td>Negocios</td>\n",
       "      <td>4.0</td>\n",
       "      <td>200000.0</td>\n",
       "      <td>1.0</td>\n",
       "      <td>5.0</td>\n",
       "    </tr>\n",
       "    <tr>\n",
       "      <th>4</th>\n",
       "      <td>2024-06-28 20:34:48.982</td>\n",
       "      <td>20.0</td>\n",
       "      <td>Masculino</td>\n",
       "      <td>X (Twitter)</td>\n",
       "      <td>Arte</td>\n",
       "      <td>Urbano</td>\n",
       "      <td>Chihuahua</td>\n",
       "      <td>Estudiante</td>\n",
       "      <td>10.0</td>\n",
       "      <td>5600.0</td>\n",
       "      <td>1.0</td>\n",
       "      <td>5.0</td>\n",
       "    </tr>\n",
       "    <tr>\n",
       "      <th>...</th>\n",
       "      <td>...</td>\n",
       "      <td>...</td>\n",
       "      <td>...</td>\n",
       "      <td>...</td>\n",
       "      <td>...</td>\n",
       "      <td>...</td>\n",
       "      <td>...</td>\n",
       "      <td>...</td>\n",
       "      <td>...</td>\n",
       "      <td>...</td>\n",
       "      <td>...</td>\n",
       "      <td>...</td>\n",
       "    </tr>\n",
       "    <tr>\n",
       "      <th>61</th>\n",
       "      <td>2024-07-02 16:49:18.221</td>\n",
       "      <td>31.0</td>\n",
       "      <td>Femenino</td>\n",
       "      <td>WhatsApp</td>\n",
       "      <td>Arte</td>\n",
       "      <td>Urbano</td>\n",
       "      <td>Chihuahua</td>\n",
       "      <td>Ingeniería</td>\n",
       "      <td>0.0</td>\n",
       "      <td>0.0</td>\n",
       "      <td>9.0</td>\n",
       "      <td>19.0</td>\n",
       "    </tr>\n",
       "    <tr>\n",
       "      <th>62</th>\n",
       "      <td>2024-07-02 16:58:46.477</td>\n",
       "      <td>37.0</td>\n",
       "      <td>Masculino</td>\n",
       "      <td>WhatsApp</td>\n",
       "      <td>Deportes</td>\n",
       "      <td>Urbano</td>\n",
       "      <td>Chihuahua</td>\n",
       "      <td>Tecnologías de la información</td>\n",
       "      <td>1.0</td>\n",
       "      <td>20000.0</td>\n",
       "      <td>3.0</td>\n",
       "      <td>5.0</td>\n",
       "    </tr>\n",
       "    <tr>\n",
       "      <th>63</th>\n",
       "      <td>2024-07-02 16:59:15.786</td>\n",
       "      <td>31.0</td>\n",
       "      <td>Masculino</td>\n",
       "      <td>Instagram</td>\n",
       "      <td>Cine</td>\n",
       "      <td>Urbano</td>\n",
       "      <td>Chihuahua</td>\n",
       "      <td>Ingeniería</td>\n",
       "      <td>3.0</td>\n",
       "      <td>0.0</td>\n",
       "      <td>3.0</td>\n",
       "      <td>4.0</td>\n",
       "    </tr>\n",
       "    <tr>\n",
       "      <th>64</th>\n",
       "      <td>2024-07-02 17:00:07.008</td>\n",
       "      <td>22.0</td>\n",
       "      <td>Masculino</td>\n",
       "      <td>WhatsApp</td>\n",
       "      <td>Vida nocturna</td>\n",
       "      <td>Urbano</td>\n",
       "      <td>Chihuahua</td>\n",
       "      <td>Tecnologías de la información</td>\n",
       "      <td>0.0</td>\n",
       "      <td>0.0</td>\n",
       "      <td>1.0</td>\n",
       "      <td>4.0</td>\n",
       "    </tr>\n",
       "    <tr>\n",
       "      <th>65</th>\n",
       "      <td>2024-07-02 17:01:57.025</td>\n",
       "      <td>33.0</td>\n",
       "      <td>Femenino</td>\n",
       "      <td>Instagram</td>\n",
       "      <td>Arte</td>\n",
       "      <td>Urbano</td>\n",
       "      <td>Chihuahua</td>\n",
       "      <td>Estudiante</td>\n",
       "      <td>2.0</td>\n",
       "      <td>10000.0</td>\n",
       "      <td>4.0</td>\n",
       "      <td>3.0</td>\n",
       "    </tr>\n",
       "  </tbody>\n",
       "</table>\n",
       "<p>66 rows × 12 columns</p>\n",
       "</div>"
      ]
     },
     "execution_count": 2,
     "metadata": {},
     "output_type": "execute_result"
    }
   ],
   "execution_count": 2
  },
  {
   "metadata": {},
   "cell_type": "markdown",
   "source": "## Plataforma y su tiempo promedio usado al día.",
   "id": "ecebb06d52af9904"
  },
  {
   "metadata": {
    "ExecuteTime": {
     "end_time": "2024-07-04T22:15:09.648140Z",
     "start_time": "2024-07-04T22:15:09.614626Z"
    }
   },
   "cell_type": "code",
   "source": [
    "numeric_columns = df.select_dtypes(include=\"number\").columns\n",
    "socialMedia = df.groupby([\"Plataforma más usada.\"])[numeric_columns].mean()\n",
    "platform_avarage = socialMedia[['Cuanto tiempo al día usas tu plataforma más usada? (En horas)', 'Edad']]\n",
    "platform_avarage = pd.DataFrame(platform_avarage)\n",
    "platform_avarage.to_csv(\"platformAvargae\")"
   ],
   "id": "fa044df3c320e785",
   "outputs": [],
   "execution_count": 117
  },
  {
   "metadata": {
    "ExecuteTime": {
     "end_time": "2024-07-04T22:10:27.922339Z",
     "start_time": "2024-07-04T22:10:27.825900Z"
    }
   },
   "cell_type": "code",
   "source": [
    "import matplotlib.pyplot as plt\n",
    "\n",
    "platforms = socialMedia.index\n",
    "usage_time = socialMedia['Cuanto tiempo al día usas tu plataforma más usada? (En horas)']\n",
    "age = socialMedia['Edad']\n",
    "\n",
    "fig, ax1 = plt.subplots(figsize=(7, 6))\n",
    "\n",
    "ax1.bar(platforms, usage_time, color='skyblue', label='Tiempo de uso (horas)')\n",
    "ax1.set_xlabel('Plataforma')\n",
    "ax1.set_ylabel('Tiempo de uso (horas)')\n",
    "ax1.tick_params(axis='y')\n",
    "ax1.set_title('Tiempo promedio de uso diario y edad promedio por plataforma')\n",
    "\n",
    "ax2 = ax1.twinx()\n",
    "ax2.plot(platforms, age, label='Edad promedio', linestyle='None')  \n",
    "ax2.set_ylabel('Edad promedio')\n",
    "#ax2.tick_params(axis='y', labelcolor='salmon')\n",
    "\n",
    "fig.tight_layout()\n",
    "plt.show()\n"
   ],
   "id": "fd3819e947808d02",
   "outputs": [
    {
     "data": {
      "text/plain": [
       "<Figure size 700x600 with 2 Axes>"
      ],
      "image/png": "[encoded data removed]"
     },
     "metadata": {},
     "output_type": "display_data"
    }
   ],
   "execution_count": 114
  },
  {
   "metadata": {},
   "cell_type": "markdown",
   "source": "## Tiempo en panatalla promedio por gaps de edades",
   "id": "8c4ce8005c9e5d31"
  },
  {
   "metadata": {
    "ExecuteTime": {
     "end_time": "2024-07-04T20:35:47.729765Z",
     "start_time": "2024-07-04T20:35:47.723949Z"
    }
   },
   "cell_type": "code",
   "source": [
    "y_adults = df[df['Edad'].between(15,25)]\n",
    "m_adults = df[df['Edad'].between(26, 40)]\n",
    "o_adults = df[df['Edad'].between(40, 100)]"
   ],
   "id": "a98cdc9ec620ed5b",
   "outputs": [],
   "execution_count": 4
  },
  {
   "metadata": {
    "ExecuteTime": {
     "end_time": "2024-07-04T21:10:47.131715Z",
     "start_time": "2024-07-04T21:10:47.107185Z"
    }
   },
   "cell_type": "code",
   "source": [
    "y1 = y_adults.groupby('Edad')[numeric_columns].mean().describe().iloc[1,[3,4]]\n",
    "m1 = m_adults.groupby(\"Edad\")[numeric_columns].mean().describe().iloc[1,[3,4]]\n",
    "o1 = o_adults.groupby(\"Edad\")[numeric_columns].mean().describe().iloc[1,[3,4]]"
   ],
   "id": "1b0a35c5b15729e8",
   "outputs": [],
   "execution_count": 50
  },
  {
   "metadata": {
    "ExecuteTime": {
     "end_time": "2024-07-04T22:13:54.769816Z",
     "start_time": "2024-07-04T22:13:54.703548Z"
    }
   },
   "cell_type": "code",
   "source": [
    "\n",
    "mycolumns = ['15-25', '26-40', '40-100']\n",
    "concatenated_df = pd.concat([y1, m1, o1], axis=1)\n",
    "concatenated_df = pd.DataFrame(concatenated_df)\n",
    "concatenated_df.columns = mycolumns\n",
    "concatenated_df.to_csv(\"ScreenTimeByAge\")"
   ],
   "id": "e5ab76e1771e7f34",
   "outputs": [],
   "execution_count": 116
  },
  {
   "metadata": {
    "ExecuteTime": {
     "end_time": "2024-07-04T22:11:09.448859Z",
     "start_time": "2024-07-04T22:11:09.037087Z"
    }
   },
   "cell_type": "code",
   "source": [
    "import matplotlib.pyplot as plt\n",
    "import numpy as np\n",
    "\n",
    "labels = concatenated_df.index\n",
    "x = np.arange(len(labels))\n",
    "width = 0.20\n",
    "\n",
    "fig, ax = plt.subplots(figsize=(5, 6))\n",
    "\n",
    "ax.bar(x - width, concatenated_df['15-25'], width, label='15-25', color='skyblue')\n",
    "ax.bar(x, concatenated_df['26-40'], width, label='26-40', color=\"salmon\")\n",
    "ax.bar(x + width, concatenated_df['40-100'], width, label='40-100', color=\"lightgreen\")\n",
    "\n",
    "ax.set_ylabel('Tiempo (horas)')\n",
    "ax.set_title('Tiempo en pantalla promedio por gaps de edades')\n",
    "ax.set_xticks(x)\n",
    "ax.set_xticklabels([\"Tiempo en app más usada\",\"Tiempo total\"], rotation=0, ha='center')\n",
    "ax.legend(title='Rango de edad')\n",
    "\n",
    "plt.tight_layout()\n",
    "plt.show()"
   ],
   "id": "3efdcdeb9d4f8e4e",
   "outputs": [
    {
     "data": {
      "text/plain": [
       "<Figure size 500x600 with 1 Axes>"
      ],
      "image/png": "[encoded data removed]"
     },
     "metadata": {},
     "output_type": "display_data"
    }
   ],
   "execution_count": 115
  }
 ],
 "metadata": {
  "kernelspec": {
   "display_name": "Python 3",
   "language": "python",
   "name": "python3"
  },
  "language_info": {
   "codemirror_mode": {
    "name": "ipython",
    "version": 2
   },
   "file_extension": ".py",
   "mimetype": "text/x-python",
   "name": "python",
   "nbconvert_exporter": "python",
   "pygments_lexer": "ipython2",
   "version": "2.7.6"
  }
 },
 "nbformat": 4,
 "nbformat_minor": 5
}
